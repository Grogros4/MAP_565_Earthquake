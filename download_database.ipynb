{
 "cells": [
  {
   "cell_type": "code",
   "execution_count": 10,
   "metadata": {},
   "outputs": [],
   "source": [
    "import requests"
   ]
  },
  {
   "cell_type": "code",
   "execution_count": 11,
   "metadata": {},
   "outputs": [],
   "source": [
    "url = \"https://earthquake.usgs.gov/fdsnws/event/1/query.csv?starttime=2000-01-01 00:00:00&endtime=2000-06-30 23:59:59&minmagnitude=2.5&orderby=time\"\n",
    "r = requests.get(url, allow_redirects=True)"
   ]
  },
  {
   "cell_type": "code",
   "execution_count": 12,
   "metadata": {},
   "outputs": [
    {
     "data": {
      "text/plain": [
       "1425582"
      ]
     },
     "execution_count": 12,
     "metadata": {},
     "output_type": "execute_result"
    }
   ],
   "source": [
    "open('data.csv', 'wb').write(r.content)"
   ]
  },
  {
   "cell_type": "code",
   "execution_count": 13,
   "metadata": {},
   "outputs": [],
   "source": [
    "start_year = 2000\n",
    "end_year = 2000\n",
    "\n",
    "#Create a folder to store the data\n",
    "import os\n",
    "\n",
    "os.mkdir('data')\n",
    "\n",
    "for year in range(start_year,end_year + 1):\n",
    "    url = \"https://earthquake.usgs.gov/fdsnws/event/1/query.csv?starttime=\"+str(year)+\"-01-01 00:00:00&endtime=\"+str(year)+\"-06-30 23:59:59&minmagnitude=2.5&orderby=time\"\n",
    "    r = requests.get(url, allow_redirects=True)\n",
    "    open('data/earthquake_' + str(year) + '_part1.csv', 'wb').write(r.content)\n",
    "    \n",
    "    url = \"https://earthquake.usgs.gov/fdsnws/event/1/query.csv?starttime=\"+str(year)+\"-07-01 00:00:00&endtime=\"+str(year)+\"-12-31 23:59:59&minmagnitude=2.5&orderby=time\"\n",
    "    r = requests.get(url, allow_redirects=True)\n",
    "    open('data/earthquake_' + str(year) + '_part2.csv', 'wb').write(r.content)"
   ]
  },
  {
   "cell_type": "code",
   "execution_count": null,
   "metadata": {},
   "outputs": [],
   "source": [
    "# Concatenate the files into one for the all the years\n",
    "import glob\n",
    "import pandas as pd\n",
    "\n",
    "# Read all the files\n",
    "df = pd.concat([pd.read_csv(f) for f in glob.glob('data/earthquake_*.csv')], ignore_index = True)\n",
    "\n",
    "# Order by time\n",
    "df = df.sort_values(by=['time'])\n",
    "\n",
    "# Save the file\n",
    "df.to_csv('earthquake.csv', index=False)    "
   ]
  }
 ],
 "metadata": {
  "kernelspec": {
   "display_name": "base",
   "language": "python",
   "name": "python3"
  },
  "language_info": {
   "codemirror_mode": {
    "name": "ipython",
    "version": 3
   },
   "file_extension": ".py",
   "mimetype": "text/x-python",
   "name": "python",
   "nbconvert_exporter": "python",
   "pygments_lexer": "ipython3",
   "version": "3.9.7"
  },
  "orig_nbformat": 4
 },
 "nbformat": 4,
 "nbformat_minor": 2
}
